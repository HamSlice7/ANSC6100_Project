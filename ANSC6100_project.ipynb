{
 "cells": [
  {
   "cell_type": "code",
   "execution_count": 4,
   "id": "49bb6c89-31c3-428f-8faa-9da0cb808a5c",
   "metadata": {
    "tags": []
   },
   "outputs": [
    {
     "name": "stdout",
     "output_type": "stream",
     "text": [
      "Requirement already satisfied: chembl_webresource_client in c:\\users\\jhamb\\anaconda3\\lib\\site-packages (0.10.8)\n",
      "Requirement already satisfied: urllib3 in c:\\users\\jhamb\\anaconda3\\lib\\site-packages (from chembl_webresource_client) (1.26.16)\n",
      "Requirement already satisfied: requests>=2.18.4 in c:\\users\\jhamb\\anaconda3\\lib\\site-packages (from chembl_webresource_client) (2.29.0)\n",
      "Requirement already satisfied: requests-cache~=0.7.0 in c:\\users\\jhamb\\anaconda3\\lib\\site-packages (from chembl_webresource_client) (0.7.5)\n",
      "Requirement already satisfied: easydict in c:\\users\\jhamb\\anaconda3\\lib\\site-packages (from chembl_webresource_client) (1.10)\n",
      "Requirement already satisfied: charset-normalizer<4,>=2 in c:\\users\\jhamb\\anaconda3\\lib\\site-packages (from requests>=2.18.4->chembl_webresource_client) (2.0.4)\n",
      "Requirement already satisfied: idna<4,>=2.5 in c:\\users\\jhamb\\anaconda3\\lib\\site-packages (from requests>=2.18.4->chembl_webresource_client) (3.4)\n",
      "Requirement already satisfied: certifi>=2017.4.17 in c:\\users\\jhamb\\anaconda3\\lib\\site-packages (from requests>=2.18.4->chembl_webresource_client) (2024.2.2)\n",
      "Requirement already satisfied: attrs<22.0,>=21.2 in c:\\users\\jhamb\\anaconda3\\lib\\site-packages (from requests-cache~=0.7.0->chembl_webresource_client) (21.4.0)\n",
      "Requirement already satisfied: itsdangerous>=2.0.1 in c:\\users\\jhamb\\anaconda3\\lib\\site-packages (from requests-cache~=0.7.0->chembl_webresource_client) (2.0.1)\n",
      "Requirement already satisfied: pyyaml>=5.4 in c:\\users\\jhamb\\anaconda3\\lib\\site-packages (from requests-cache~=0.7.0->chembl_webresource_client) (6.0)\n",
      "Requirement already satisfied: url-normalize<2.0,>=1.4 in c:\\users\\jhamb\\anaconda3\\lib\\site-packages (from requests-cache~=0.7.0->chembl_webresource_client) (1.4.3)\n",
      "Requirement already satisfied: six in c:\\users\\jhamb\\appdata\\roaming\\python\\python311\\site-packages (from url-normalize<2.0,>=1.4->requests-cache~=0.7.0->chembl_webresource_client) (1.16.0)\n",
      "Note: you may need to restart the kernel to use updated packages.\n"
     ]
    }
   ],
   "source": [
    "#Here is a comment for installing chembl_webresource_client\n",
    "pip install chembl_webresource_client"
   ]
  },
  {
   "cell_type": "code",
   "execution_count": 3,
   "id": "2b15ae25-183e-4fa9-a3f4-37e1174da25a",
   "metadata": {
    "tags": []
   },
   "outputs": [],
   "source": [
    "#importing necessary libraries\n",
    "import numpy as np\n",
    "import pandas as pd\n",
    "import seaborn as sns\n",
    "import matplotlib.pyplot as plt\n",
    "from chembl_webresource_client.new_client import new_client\n",
    "from rdkit import Chem\n",
    "from rdkit.Chem import Descriptors,Lipinski,rdchem"
   ]
  },
  {
   "cell_type": "code",
   "execution_count": 4,
   "id": "1ab8bc01-7fa9-4bd6-8202-40f281a1bf34",
   "metadata": {
    "tags": []
   },
   "outputs": [
    {
     "data": {
      "text/html": [
       "<div>\n",
       "<style scoped>\n",
       "    .dataframe tbody tr th:only-of-type {\n",
       "        vertical-align: middle;\n",
       "    }\n",
       "\n",
       "    .dataframe tbody tr th {\n",
       "        vertical-align: top;\n",
       "    }\n",
       "\n",
       "    .dataframe thead th {\n",
       "        text-align: right;\n",
       "    }\n",
       "</style>\n",
       "<table border=\"1\" class=\"dataframe\">\n",
       "  <thead>\n",
       "    <tr style=\"text-align: right;\">\n",
       "      <th></th>\n",
       "      <th>cross_references</th>\n",
       "      <th>organism</th>\n",
       "      <th>pref_name</th>\n",
       "      <th>score</th>\n",
       "      <th>species_group_flag</th>\n",
       "      <th>target_chembl_id</th>\n",
       "      <th>target_components</th>\n",
       "      <th>target_type</th>\n",
       "      <th>tax_id</th>\n",
       "    </tr>\n",
       "  </thead>\n",
       "  <tbody>\n",
       "    <tr>\n",
       "      <th>0</th>\n",
       "      <td>[{'xref_id': 'P00533', 'xref_name': None, 'xre...</td>\n",
       "      <td>Homo sapiens</td>\n",
       "      <td>Epidermal growth factor receptor erbB1</td>\n",
       "      <td>15.0</td>\n",
       "      <td>False</td>\n",
       "      <td>CHEMBL203</td>\n",
       "      <td>[{'accession': 'P00533', 'component_descriptio...</td>\n",
       "      <td>SINGLE PROTEIN</td>\n",
       "      <td>9606</td>\n",
       "    </tr>\n",
       "    <tr>\n",
       "      <th>1</th>\n",
       "      <td>[]</td>\n",
       "      <td>Homo sapiens</td>\n",
       "      <td>Protein cereblon/Epidermal growth factor receptor</td>\n",
       "      <td>14.0</td>\n",
       "      <td>False</td>\n",
       "      <td>CHEMBL4523680</td>\n",
       "      <td>[{'accession': 'P00533', 'component_descriptio...</td>\n",
       "      <td>PROTEIN-PROTEIN INTERACTION</td>\n",
       "      <td>9606</td>\n",
       "    </tr>\n",
       "    <tr>\n",
       "      <th>2</th>\n",
       "      <td>[]</td>\n",
       "      <td>Homo sapiens</td>\n",
       "      <td>MER intracellular domain/EGFR extracellular do...</td>\n",
       "      <td>13.0</td>\n",
       "      <td>False</td>\n",
       "      <td>CHEMBL3137284</td>\n",
       "      <td>[{'accession': 'P00533', 'component_descriptio...</td>\n",
       "      <td>CHIMERIC PROTEIN</td>\n",
       "      <td>9606</td>\n",
       "    </tr>\n",
       "    <tr>\n",
       "      <th>3</th>\n",
       "      <td>[]</td>\n",
       "      <td>Homo sapiens</td>\n",
       "      <td>EGFR/PPP1CA</td>\n",
       "      <td>13.0</td>\n",
       "      <td>False</td>\n",
       "      <td>CHEMBL4523747</td>\n",
       "      <td>[{'accession': 'P00533', 'component_descriptio...</td>\n",
       "      <td>PROTEIN-PROTEIN INTERACTION</td>\n",
       "      <td>9606</td>\n",
       "    </tr>\n",
       "    <tr>\n",
       "      <th>4</th>\n",
       "      <td>[]</td>\n",
       "      <td>Homo sapiens</td>\n",
       "      <td>VHL/EGFR</td>\n",
       "      <td>13.0</td>\n",
       "      <td>False</td>\n",
       "      <td>CHEMBL4523998</td>\n",
       "      <td>[{'accession': 'P00533', 'component_descriptio...</td>\n",
       "      <td>PROTEIN-PROTEIN INTERACTION</td>\n",
       "      <td>9606</td>\n",
       "    </tr>\n",
       "    <tr>\n",
       "      <th>5</th>\n",
       "      <td>[{'xref_id': 'Q01279', 'xref_name': None, 'xre...</td>\n",
       "      <td>Mus musculus</td>\n",
       "      <td>Epidermal growth factor receptor erbB1</td>\n",
       "      <td>12.0</td>\n",
       "      <td>False</td>\n",
       "      <td>CHEMBL3608</td>\n",
       "      <td>[{'accession': 'Q01279', 'component_descriptio...</td>\n",
       "      <td>SINGLE PROTEIN</td>\n",
       "      <td>10090</td>\n",
       "    </tr>\n",
       "    <tr>\n",
       "      <th>6</th>\n",
       "      <td>[]</td>\n",
       "      <td>Homo sapiens</td>\n",
       "      <td>Epidermal growth factor receptor and ErbB2 (HE...</td>\n",
       "      <td>10.0</td>\n",
       "      <td>False</td>\n",
       "      <td>CHEMBL2111431</td>\n",
       "      <td>[{'accession': 'P04626', 'component_descriptio...</td>\n",
       "      <td>PROTEIN FAMILY</td>\n",
       "      <td>9606</td>\n",
       "    </tr>\n",
       "    <tr>\n",
       "      <th>7</th>\n",
       "      <td>[]</td>\n",
       "      <td>Homo sapiens</td>\n",
       "      <td>Baculoviral IAP repeat-containing protein 2/Ep...</td>\n",
       "      <td>10.0</td>\n",
       "      <td>False</td>\n",
       "      <td>CHEMBL4802031</td>\n",
       "      <td>[{'accession': 'P00533', 'component_descriptio...</td>\n",
       "      <td>PROTEIN-PROTEIN INTERACTION</td>\n",
       "      <td>9606</td>\n",
       "    </tr>\n",
       "    <tr>\n",
       "      <th>8</th>\n",
       "      <td>[]</td>\n",
       "      <td>Homo sapiens</td>\n",
       "      <td>Epidermal growth factor receptor</td>\n",
       "      <td>7.0</td>\n",
       "      <td>False</td>\n",
       "      <td>CHEMBL2363049</td>\n",
       "      <td>[{'accession': 'P04626', 'component_descriptio...</td>\n",
       "      <td>PROTEIN FAMILY</td>\n",
       "      <td>9606</td>\n",
       "    </tr>\n",
       "  </tbody>\n",
       "</table>\n",
       "</div>"
      ],
      "text/plain": [
       "                                    cross_references      organism  \\\n",
       "0  [{'xref_id': 'P00533', 'xref_name': None, 'xre...  Homo sapiens   \n",
       "1                                                 []  Homo sapiens   \n",
       "2                                                 []  Homo sapiens   \n",
       "3                                                 []  Homo sapiens   \n",
       "4                                                 []  Homo sapiens   \n",
       "5  [{'xref_id': 'Q01279', 'xref_name': None, 'xre...  Mus musculus   \n",
       "6                                                 []  Homo sapiens   \n",
       "7                                                 []  Homo sapiens   \n",
       "8                                                 []  Homo sapiens   \n",
       "\n",
       "                                           pref_name  score  \\\n",
       "0             Epidermal growth factor receptor erbB1   15.0   \n",
       "1  Protein cereblon/Epidermal growth factor receptor   14.0   \n",
       "2  MER intracellular domain/EGFR extracellular do...   13.0   \n",
       "3                                        EGFR/PPP1CA   13.0   \n",
       "4                                           VHL/EGFR   13.0   \n",
       "5             Epidermal growth factor receptor erbB1   12.0   \n",
       "6  Epidermal growth factor receptor and ErbB2 (HE...   10.0   \n",
       "7  Baculoviral IAP repeat-containing protein 2/Ep...   10.0   \n",
       "8                   Epidermal growth factor receptor    7.0   \n",
       "\n",
       "   species_group_flag target_chembl_id  \\\n",
       "0               False        CHEMBL203   \n",
       "1               False    CHEMBL4523680   \n",
       "2               False    CHEMBL3137284   \n",
       "3               False    CHEMBL4523747   \n",
       "4               False    CHEMBL4523998   \n",
       "5               False       CHEMBL3608   \n",
       "6               False    CHEMBL2111431   \n",
       "7               False    CHEMBL4802031   \n",
       "8               False    CHEMBL2363049   \n",
       "\n",
       "                                   target_components  \\\n",
       "0  [{'accession': 'P00533', 'component_descriptio...   \n",
       "1  [{'accession': 'P00533', 'component_descriptio...   \n",
       "2  [{'accession': 'P00533', 'component_descriptio...   \n",
       "3  [{'accession': 'P00533', 'component_descriptio...   \n",
       "4  [{'accession': 'P00533', 'component_descriptio...   \n",
       "5  [{'accession': 'Q01279', 'component_descriptio...   \n",
       "6  [{'accession': 'P04626', 'component_descriptio...   \n",
       "7  [{'accession': 'P00533', 'component_descriptio...   \n",
       "8  [{'accession': 'P04626', 'component_descriptio...   \n",
       "\n",
       "                   target_type  tax_id  \n",
       "0               SINGLE PROTEIN    9606  \n",
       "1  PROTEIN-PROTEIN INTERACTION    9606  \n",
       "2             CHIMERIC PROTEIN    9606  \n",
       "3  PROTEIN-PROTEIN INTERACTION    9606  \n",
       "4  PROTEIN-PROTEIN INTERACTION    9606  \n",
       "5               SINGLE PROTEIN   10090  \n",
       "6               PROTEIN FAMILY    9606  \n",
       "7  PROTEIN-PROTEIN INTERACTION    9606  \n",
       "8               PROTEIN FAMILY    9606  "
      ]
     },
     "execution_count": 4,
     "metadata": {},
     "output_type": "execute_result"
    }
   ],
   "source": [
    "#searching and selecting  as the drug target\n",
    "target_query = new_client.target.search(\"Erbb1\")\n",
    "targets = pd.DataFrame(target_query)\n",
    "targets"
   ]
  },
  {
   "cell_type": "code",
   "execution_count": 5,
   "id": "c5ee0d45-5df3-490a-a185-850d84362471",
   "metadata": {
    "tags": []
   },
   "outputs": [
    {
     "data": {
      "text/plain": [
       "'CHEMBL203'"
      ]
     },
     "execution_count": 5,
     "metadata": {},
     "output_type": "execute_result"
    }
   ],
   "source": [
    "selected_query = targets.target_chembl_id[0]\n",
    "selected_query"
   ]
  },
  {
   "cell_type": "code",
   "execution_count": 6,
   "id": "61baf5c1-cf66-4fdb-8f74-db9e99ab06e4",
   "metadata": {
    "tags": []
   },
   "outputs": [],
   "source": [
    "#selecting the desired data set\n",
    "activity = new_client.activity\n",
    "erbb1_ic50 = activity.filter(target_chembl_id = selected_query).filter(standard_type = \"IC50\")\n",
    "erbb1_df = pd.DataFrame(erbb1_ic50)"
   ]
  },
  {
   "cell_type": "code",
   "execution_count": 105,
   "id": "9eb407c4-0d90-4fc0-b541-77a88a9b8b22",
   "metadata": {
    "tags": []
   },
   "outputs": [
    {
     "data": {
      "text/plain": [
       "(15336, 46)"
      ]
     },
     "execution_count": 105,
     "metadata": {},
     "output_type": "execute_result"
    }
   ],
   "source": [
    "#removing any missing values in the \"standard value\" column\n",
    "erbb1_df_naremove = erbb1_df[erbb1_df.standard_value.notna()]\n",
    "erbb1_df_naremove.shape"
   ]
  },
  {
   "cell_type": "code",
   "execution_count": 108,
   "id": "b4bb8534-3424-4569-9999-b9970700545c",
   "metadata": {
    "tags": []
   },
   "outputs": [
    {
     "name": "stderr",
     "output_type": "stream",
     "text": [
      "C:\\Users\\jhamb\\AppData\\Local\\Temp\\ipykernel_5000\\1831612217.py:2: UserWarning: Boolean Series key will be reindexed to match DataFrame index.\n",
      "  erbb1_df_naremove_smiles = erbb1_df_naremove[erbb1_df.canonical_smiles.notna()]\n"
     ]
    },
    {
     "data": {
      "text/plain": [
       "(15329, 46)"
      ]
     },
     "execution_count": 108,
     "metadata": {},
     "output_type": "execute_result"
    }
   ],
   "source": [
    "#removing missing cananonical smiles\n",
    "erbb1_df_naremove_smiles = erbb1_df_naremove[erbb1_df.canonical_smiles.notna()]\n",
    "erbb1_df_naremove_smiles.shape"
   ]
  },
  {
   "cell_type": "code",
   "execution_count": 109,
   "id": "10d381c4-c20e-4578-be37-b83a214fa959",
   "metadata": {
    "tags": []
   },
   "outputs": [
    {
     "data": {
      "text/plain": [
       "Index(['action_type', 'activity_comment', 'activity_id', 'activity_properties',\n",
       "       'assay_chembl_id', 'assay_description', 'assay_type',\n",
       "       'assay_variant_accession', 'assay_variant_mutation', 'bao_endpoint',\n",
       "       'bao_format', 'bao_label', 'canonical_smiles', 'data_validity_comment',\n",
       "       'data_validity_description', 'document_chembl_id', 'document_journal',\n",
       "       'document_year', 'ligand_efficiency', 'molecule_chembl_id',\n",
       "       'molecule_pref_name', 'parent_molecule_chembl_id', 'pchembl_value',\n",
       "       'potential_duplicate', 'qudt_units', 'record_id', 'relation', 'src_id',\n",
       "       'standard_flag', 'standard_relation', 'standard_text_value',\n",
       "       'standard_type', 'standard_units', 'standard_upper_value',\n",
       "       'standard_value', 'target_chembl_id', 'target_organism',\n",
       "       'target_pref_name', 'target_tax_id', 'text_value', 'toid', 'type',\n",
       "       'units', 'uo_units', 'upper_value', 'value'],\n",
       "      dtype='object')"
      ]
     },
     "execution_count": 109,
     "metadata": {},
     "output_type": "execute_result"
    }
   ],
   "source": [
    "#Getting a list of columns from the erbb1_df\n",
    "erbb1_df_naremove_smiles.columns"
   ]
  },
  {
   "cell_type": "code",
   "execution_count": 110,
   "id": "c0b4dff2-8e7d-4d61-9258-3839d12415b5",
   "metadata": {
    "tags": []
   },
   "outputs": [
    {
     "data": {
      "text/plain": [
       "Outside typical range            314\n",
       "Potential transcription error     53\n",
       "Name: data_validity_comment, dtype: int64"
      ]
     },
     "execution_count": 110,
     "metadata": {},
     "output_type": "execute_result"
    }
   ],
   "source": [
    "erbb1_df_naremove_smiles['data_validity_comment'].value_counts()"
   ]
  },
  {
   "cell_type": "code",
   "execution_count": 111,
   "id": "c1a4a644-ef46-4efb-8a21-093e3e1d09a1",
   "metadata": {
    "tags": []
   },
   "outputs": [
    {
     "data": {
      "text/html": [
       "<div>\n",
       "<style scoped>\n",
       "    .dataframe tbody tr th:only-of-type {\n",
       "        vertical-align: middle;\n",
       "    }\n",
       "\n",
       "    .dataframe tbody tr th {\n",
       "        vertical-align: top;\n",
       "    }\n",
       "\n",
       "    .dataframe thead th {\n",
       "        text-align: right;\n",
       "    }\n",
       "</style>\n",
       "<table border=\"1\" class=\"dataframe\">\n",
       "  <thead>\n",
       "    <tr style=\"text-align: right;\">\n",
       "      <th></th>\n",
       "      <th>canonical_smiles</th>\n",
       "      <th>molecule_chembl_id</th>\n",
       "      <th>bao_label</th>\n",
       "      <th>standard_units</th>\n",
       "      <th>standard_value</th>\n",
       "      <th>pchembl_value</th>\n",
       "      <th>data_validity_comment</th>\n",
       "    </tr>\n",
       "  </thead>\n",
       "  <tbody>\n",
       "    <tr>\n",
       "      <th>0</th>\n",
       "      <td>Cc1cc(C)c(/C=C2\\C(=O)Nc3ncnc(Nc4ccc(F)c(Cl)c4)...</td>\n",
       "      <td>CHEMBL68920</td>\n",
       "      <td>single protein format</td>\n",
       "      <td>nM</td>\n",
       "      <td>41.0</td>\n",
       "      <td>7.39</td>\n",
       "      <td>None</td>\n",
       "    </tr>\n",
       "    <tr>\n",
       "      <th>1</th>\n",
       "      <td>Cc1cc(C)c(/C=C2\\C(=O)Nc3ncnc(Nc4ccc(F)c(Cl)c4)...</td>\n",
       "      <td>CHEMBL68920</td>\n",
       "      <td>cell-based format</td>\n",
       "      <td>nM</td>\n",
       "      <td>300.0</td>\n",
       "      <td>6.52</td>\n",
       "      <td>None</td>\n",
       "    </tr>\n",
       "    <tr>\n",
       "      <th>2</th>\n",
       "      <td>Cc1cc(C)c(/C=C2\\C(=O)Nc3ncnc(Nc4ccc(F)c(Cl)c4)...</td>\n",
       "      <td>CHEMBL68920</td>\n",
       "      <td>cell-based format</td>\n",
       "      <td>nM</td>\n",
       "      <td>7820.0</td>\n",
       "      <td>5.11</td>\n",
       "      <td>None</td>\n",
       "    </tr>\n",
       "    <tr>\n",
       "      <th>3</th>\n",
       "      <td>Cc1cc(C(=O)N2CCOCC2)[nH]c1/C=C1\\C(=O)Nc2ncnc(N...</td>\n",
       "      <td>CHEMBL69960</td>\n",
       "      <td>single protein format</td>\n",
       "      <td>nM</td>\n",
       "      <td>170.0</td>\n",
       "      <td>6.77</td>\n",
       "      <td>None</td>\n",
       "    </tr>\n",
       "    <tr>\n",
       "      <th>4</th>\n",
       "      <td>Cc1cc(C(=O)N2CCOCC2)[nH]c1/C=C1\\C(=O)Nc2ncnc(N...</td>\n",
       "      <td>CHEMBL69960</td>\n",
       "      <td>cell-based format</td>\n",
       "      <td>nM</td>\n",
       "      <td>40.0</td>\n",
       "      <td>7.40</td>\n",
       "      <td>None</td>\n",
       "    </tr>\n",
       "  </tbody>\n",
       "</table>\n",
       "</div>"
      ],
      "text/plain": [
       "                                    canonical_smiles molecule_chembl_id  \\\n",
       "0  Cc1cc(C)c(/C=C2\\C(=O)Nc3ncnc(Nc4ccc(F)c(Cl)c4)...        CHEMBL68920   \n",
       "1  Cc1cc(C)c(/C=C2\\C(=O)Nc3ncnc(Nc4ccc(F)c(Cl)c4)...        CHEMBL68920   \n",
       "2  Cc1cc(C)c(/C=C2\\C(=O)Nc3ncnc(Nc4ccc(F)c(Cl)c4)...        CHEMBL68920   \n",
       "3  Cc1cc(C(=O)N2CCOCC2)[nH]c1/C=C1\\C(=O)Nc2ncnc(N...        CHEMBL69960   \n",
       "4  Cc1cc(C(=O)N2CCOCC2)[nH]c1/C=C1\\C(=O)Nc2ncnc(N...        CHEMBL69960   \n",
       "\n",
       "               bao_label standard_units standard_value pchembl_value  \\\n",
       "0  single protein format             nM           41.0          7.39   \n",
       "1      cell-based format             nM          300.0          6.52   \n",
       "2      cell-based format             nM         7820.0          5.11   \n",
       "3  single protein format             nM          170.0          6.77   \n",
       "4      cell-based format             nM           40.0          7.40   \n",
       "\n",
       "  data_validity_comment  \n",
       "0                  None  \n",
       "1                  None  \n",
       "2                  None  \n",
       "3                  None  \n",
       "4                  None  "
      ]
     },
     "execution_count": 111,
     "metadata": {},
     "output_type": "execute_result"
    }
   ],
   "source": [
    "#selecting desired columns\n",
    "selected_columns = ['canonical_smiles', 'molecule_chembl_id','bao_label', 'standard_units', 'standard_value', 'pchembl_value', 'data_validity_comment']\n",
    "erbb1_df_select_columns = erbb1_df_naremove_smiles[selected_columns]\n",
    "erbb1_df_select_columns.head()\n"
   ]
  },
  {
   "cell_type": "code",
   "execution_count": 112,
   "id": "85aec4e5-ae1b-40f7-9012-841e82e691b0",
   "metadata": {
    "tags": []
   },
   "outputs": [
    {
     "data": {
      "text/html": [
       "<div>\n",
       "<style scoped>\n",
       "    .dataframe tbody tr th:only-of-type {\n",
       "        vertical-align: middle;\n",
       "    }\n",
       "\n",
       "    .dataframe tbody tr th {\n",
       "        vertical-align: top;\n",
       "    }\n",
       "\n",
       "    .dataframe thead th {\n",
       "        text-align: right;\n",
       "    }\n",
       "</style>\n",
       "<table border=\"1\" class=\"dataframe\">\n",
       "  <thead>\n",
       "    <tr style=\"text-align: right;\">\n",
       "      <th></th>\n",
       "      <th>canonical_smiles</th>\n",
       "      <th>molecule_chembl_id</th>\n",
       "      <th>bao_label</th>\n",
       "      <th>standard_units</th>\n",
       "      <th>standard_value</th>\n",
       "      <th>pchembl_value</th>\n",
       "      <th>data_validity_comment</th>\n",
       "    </tr>\n",
       "  </thead>\n",
       "  <tbody>\n",
       "    <tr>\n",
       "      <th>7</th>\n",
       "      <td>CC(=C(C#N)C#N)c1ccc(NC(=O)CCC(=O)O)cc1</td>\n",
       "      <td>CHEMBL306988</td>\n",
       "      <td>single protein format</td>\n",
       "      <td>nM</td>\n",
       "      <td>500000.0</td>\n",
       "      <td>None</td>\n",
       "      <td>Outside typical range</td>\n",
       "    </tr>\n",
       "    <tr>\n",
       "      <th>8</th>\n",
       "      <td>O=C(O)/C=C/c1ccc(O)cc1</td>\n",
       "      <td>CHEMBL66879</td>\n",
       "      <td>single protein format</td>\n",
       "      <td>nM</td>\n",
       "      <td>3000000.0</td>\n",
       "      <td>None</td>\n",
       "      <td>Outside typical range</td>\n",
       "    </tr>\n",
       "    <tr>\n",
       "      <th>11</th>\n",
       "      <td>COc1cc(/C=C(\\C#N)C(=O)O)cc(OC)c1O</td>\n",
       "      <td>CHEMBL76979</td>\n",
       "      <td>single protein format</td>\n",
       "      <td>nM</td>\n",
       "      <td>264000.0</td>\n",
       "      <td>None</td>\n",
       "      <td>Outside typical range</td>\n",
       "    </tr>\n",
       "    <tr>\n",
       "      <th>13</th>\n",
       "      <td>COc1cc(C=C(C#N)C#N)cc(OC)c1</td>\n",
       "      <td>CHEMBL77724</td>\n",
       "      <td>single protein format</td>\n",
       "      <td>nM</td>\n",
       "      <td>1250000.0</td>\n",
       "      <td>None</td>\n",
       "      <td>Outside typical range</td>\n",
       "    </tr>\n",
       "    <tr>\n",
       "      <th>14</th>\n",
       "      <td>N#CC(C#N)=Cc1ccc(N2CCOCC2)cc1</td>\n",
       "      <td>CHEMBL420385</td>\n",
       "      <td>single protein format</td>\n",
       "      <td>nM</td>\n",
       "      <td>625000.0</td>\n",
       "      <td>None</td>\n",
       "      <td>Outside typical range</td>\n",
       "    </tr>\n",
       "  </tbody>\n",
       "</table>\n",
       "</div>"
      ],
      "text/plain": [
       "                          canonical_smiles molecule_chembl_id  \\\n",
       "7   CC(=C(C#N)C#N)c1ccc(NC(=O)CCC(=O)O)cc1       CHEMBL306988   \n",
       "8                   O=C(O)/C=C/c1ccc(O)cc1        CHEMBL66879   \n",
       "11       COc1cc(/C=C(\\C#N)C(=O)O)cc(OC)c1O        CHEMBL76979   \n",
       "13             COc1cc(C=C(C#N)C#N)cc(OC)c1        CHEMBL77724   \n",
       "14           N#CC(C#N)=Cc1ccc(N2CCOCC2)cc1       CHEMBL420385   \n",
       "\n",
       "                bao_label standard_units standard_value pchembl_value  \\\n",
       "7   single protein format             nM       500000.0          None   \n",
       "8   single protein format             nM      3000000.0          None   \n",
       "11  single protein format             nM       264000.0          None   \n",
       "13  single protein format             nM      1250000.0          None   \n",
       "14  single protein format             nM       625000.0          None   \n",
       "\n",
       "    data_validity_comment  \n",
       "7   Outside typical range  \n",
       "8   Outside typical range  \n",
       "11  Outside typical range  \n",
       "13  Outside typical range  \n",
       "14  Outside typical range  "
      ]
     },
     "execution_count": 112,
     "metadata": {},
     "output_type": "execute_result"
    }
   ],
   "source": [
    "erbb1_df_err = erbb1_df_select_columns[erbb1_df_select_columns['data_validity_comment'] == 'Outside typical range' ]\n",
    "erbb1_df_err.head()"
   ]
  },
  {
   "cell_type": "code",
   "execution_count": 113,
   "id": "1c3881f4-9d49-4e6d-b194-f5cab074ec00",
   "metadata": {
    "tags": []
   },
   "outputs": [
    {
     "data": {
      "text/plain": [
       "'960063.59'"
      ]
     },
     "execution_count": 113,
     "metadata": {},
     "output_type": "execute_result"
    }
   ],
   "source": [
    "erbb1_df_err.loc[:,'standard_value'].max()"
   ]
  },
  {
   "cell_type": "code",
   "execution_count": 115,
   "id": "8c1a5ac5-658f-48fc-a71b-76cc78a7cb8b",
   "metadata": {
    "tags": []
   },
   "outputs": [
    {
     "data": {
      "text/plain": [
       "(14962, 7)"
      ]
     },
     "execution_count": 115,
     "metadata": {},
     "output_type": "execute_result"
    }
   ],
   "source": [
    "#filtering for data_validity_comment = None\n",
    "erbb1_df_err_rm = erbb1_df_select_columns[erbb1_df_select_columns['data_validity_comment'].isnull()]\n",
    "erbb1_df_err_rm.shape"
   ]
  },
  {
   "cell_type": "code",
   "execution_count": 116,
   "id": "b9ea390a-0edd-4d86-861a-f2b63076c354",
   "metadata": {
    "tags": []
   },
   "outputs": [
    {
     "data": {
      "text/plain": [
       "single protein format    7131\n",
       "cell-based format        4347\n",
       "assay format             2866\n",
       "protein format            537\n",
       "cell membrane format       42\n",
       "cell-free format           39\n",
       "Name: bao_label, dtype: int64"
      ]
     },
     "execution_count": 116,
     "metadata": {},
     "output_type": "execute_result"
    }
   ],
   "source": [
    "#looking at the bao labels (experimental design) and looking at the number of observations for each bao label\n",
    "erbb1_df_err_rm['bao_label'].unique()\n",
    "erbb1_df_err_rm['bao_label'].value_counts()"
   ]
  },
  {
   "cell_type": "code",
   "execution_count": null,
   "id": "1857eea2-4f94-42d9-aad2-4f1bcbd371e3",
   "metadata": {},
   "outputs": [],
   "source": [
    "#convert 'standard_units' to a common unit? "
   ]
  },
  {
   "cell_type": "code",
   "execution_count": 117,
   "id": "38b1f51f-1e83-43d6-b6ff-a3cca3e3c3f8",
   "metadata": {
    "tags": []
   },
   "outputs": [
    {
     "data": {
      "text/plain": [
       "99899.996"
      ]
     },
     "execution_count": 117,
     "metadata": {},
     "output_type": "execute_result"
    }
   ],
   "source": [
    "#look at the range for IC50 values - log transformation (pchembl)?\n",
    "column_range = float(erbb1_df_err_rm.loc[:,'standard_value'].max()) - float(erbb1_df_err_rm.loc[:,'standard_value'].min())\n",
    "column_range"
   ]
  },
  {
   "cell_type": "code",
   "execution_count": 118,
   "id": "be9016f7-3000-41d2-9a23-6421e8f38155",
   "metadata": {
    "tags": []
   },
   "outputs": [
    {
     "name": "stderr",
     "output_type": "stream",
     "text": [
      "C:\\Users\\jhamb\\AppData\\Local\\Temp\\ipykernel_5000\\900186712.py:1: SettingWithCopyWarning: \n",
      "A value is trying to be set on a copy of a slice from a DataFrame.\n",
      "Try using .loc[row_indexer,col_indexer] = value instead\n",
      "\n",
      "See the caveats in the documentation: https://pandas.pydata.org/pandas-docs/stable/user_guide/indexing.html#returning-a-view-versus-a-copy\n",
      "  erbb1_df_err_rm.loc[:,'pchembl_value'] = pd.to_numeric(erbb1_df_err_rm.loc[:,'pchembl_value'])\n",
      "C:\\Users\\jhamb\\AppData\\Local\\Temp\\ipykernel_5000\\900186712.py:1: DeprecationWarning: In a future version, `df.iloc[:, i] = newvals` will attempt to set the values inplace instead of always setting a new array. To retain the old behavior, use either `df[df.columns[i]] = newvals` or, if columns are non-unique, `df.isetitem(i, newvals)`\n",
      "  erbb1_df_err_rm.loc[:,'pchembl_value'] = pd.to_numeric(erbb1_df_err_rm.loc[:,'pchembl_value'])\n"
     ]
    },
    {
     "data": {
      "text/plain": [
       "7.0"
      ]
     },
     "execution_count": 118,
     "metadata": {},
     "output_type": "execute_result"
    }
   ],
   "source": [
    "erbb1_df_err_rm.loc[:,'pchembl_value'] = pd.to_numeric(erbb1_df_err_rm.loc[:,'pchembl_value'])\n",
    "chemblp_range = float(erbb1_df_err_rm.loc[:,'pchembl_value'].max()) - float(erbb1_df_err_rm.loc[:,'pchembl_value'].min())\n",
    "chemblp_range"
   ]
  },
  {
   "cell_type": "code",
   "execution_count": 119,
   "id": "6e21ecfe-9161-472d-be0d-00f1fe62e9fd",
   "metadata": {
    "tags": []
   },
   "outputs": [
    {
     "data": {
      "text/plain": [
       "(7131, 7)"
      ]
     },
     "execution_count": 119,
     "metadata": {},
     "output_type": "execute_result"
    }
   ],
   "source": [
    "#Selecting 'single protein format' boa labels\n",
    "erbb1_df_spf = erbb1_df_err_rm[erbb1_df_err_rm['bao_label'] == 'single protein format']\n",
    "erbb1_df_spf.shape"
   ]
  },
  {
   "cell_type": "code",
   "execution_count": 120,
   "id": "13b92a64-964b-4eec-ac36-e36f0e31773a",
   "metadata": {
    "tags": []
   },
   "outputs": [
    {
     "data": {
      "text/plain": [
       "(5385, 7)"
      ]
     },
     "execution_count": 120,
     "metadata": {},
     "output_type": "execute_result"
    }
   ],
   "source": [
    "#Removing duplicate compounds \n",
    "erbb1_spf_noduplicates_df = erbb1_spf_df.drop_duplicates(subset=['molecule_chembl_id'])\n",
    "erbb1_spf_noduplicates_df.shape"
   ]
  },
  {
   "cell_type": "code",
   "execution_count": null,
   "id": "2584aeff-f5a6-47e5-9050-bbcbe1a08d8f",
   "metadata": {},
   "outputs": [],
   "source": []
  }
 ],
 "metadata": {
  "kernelspec": {
   "display_name": "Python 3 (ipykernel)",
   "language": "python",
   "name": "python3"
  },
  "language_info": {
   "codemirror_mode": {
    "name": "ipython",
    "version": 3
   },
   "file_extension": ".py",
   "mimetype": "text/x-python",
   "name": "python",
   "nbconvert_exporter": "python",
   "pygments_lexer": "ipython3",
   "version": "3.11.5"
  }
 },
 "nbformat": 4,
 "nbformat_minor": 5
}
